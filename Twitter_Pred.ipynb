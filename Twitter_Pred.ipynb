{
 "cells": [
  {
   "cell_type": "code",
   "execution_count": 24,
   "id": "33687d0a",
   "metadata": {},
   "outputs": [],
   "source": [
    "import csv\n",
    "import array\n",
    "import pandas\n",
    "import pickle\n",
    "import os\n",
    "import sys\n",
    "import numpy as np\n",
    "from sklearn.feature_extraction.text import CountVectorizer\n",
    "from sklearn.feature_extraction.text import TfidfVectorizer\n",
    "from sklearn.naive_bayes import GaussianNB\n",
    "from sklearn import svm"
   ]
  },
  {
   "cell_type": "code",
   "execution_count": 25,
   "id": "ed62e11d",
   "metadata": {},
   "outputs": [],
   "source": [
    "csvFile=open('Reference_data/newfrequency300.csv', 'rt')\n",
    "csvReader=csv.reader(csvFile)\n",
    "mydict={row[1]: int(row[0]) for row in csvReader}"
   ]
  },
  {
   "cell_type": "code",
   "execution_count": 26,
   "id": "79f860bb",
   "metadata": {},
   "outputs": [],
   "source": [
    "y=[]\n",
    "with open ('Reference_data/PJFinaltest.csv', 'rt') as f:\n",
    "\treader=csv.reader(f)\n",
    "\tcorpus=[rows[0] for rows in reader]"
   ]
  },
  {
   "cell_type": "code",
   "execution_count": 27,
   "id": "97352eba",
   "metadata": {},
   "outputs": [],
   "source": [
    "with open ('Reference_data/PJFinaltest.csv', 'rt') as f:\n",
    "\tcsvReader1=csv.reader(f)\n",
    "\tfor rows in csvReader1:\n",
    "\t\ty.append([int(rows[1])])"
   ]
  },
  {
   "cell_type": "code",
   "execution_count": 28,
   "id": "8f096cbb",
   "metadata": {},
   "outputs": [],
   "source": [
    "vectorizer=TfidfVectorizer(vocabulary=mydict,min_df=1)\n",
    "x=vectorizer.fit_transform(corpus).toarray()\n",
    "result=np.append(x,y,axis=1)\n",
    "X=pandas.DataFrame(result)\n",
    "model=GaussianNB()\n",
    "train = X.sample(frac=0.8, random_state=1)\n",
    "test=X.drop(train.index)\n",
    "y_train=train[301]\n",
    "y_test=test[301]"
   ]
  },
  {
   "cell_type": "code",
   "execution_count": 29,
   "id": "ac7d66e5",
   "metadata": {},
   "outputs": [
    {
     "name": "stdout",
     "output_type": "stream",
     "text": [
      "(265610, 302)\n",
      "(66403, 302)\n"
     ]
    }
   ],
   "source": [
    "print(train.shape)\n",
    "print(test.shape)"
   ]
  },
  {
   "cell_type": "code",
   "execution_count": 30,
   "id": "429f223f",
   "metadata": {},
   "outputs": [],
   "source": [
    "xtrain=train.drop(301,axis=1)\n",
    "xtest=test.drop(301,axis=1)\n",
    "model.fit(xtrain,y_train)\n",
    "pickle.dump(model, open('Model/BNTFFinal.sav', 'wb'))\n",
    "del result\n"
   ]
  },
  {
   "cell_type": "code",
   "execution_count": 31,
   "id": "5c92d74b",
   "metadata": {},
   "outputs": [],
   "source": [
    "y=[]\n",
    "with open ('Reference_data/SNFinaltest.csv', 'rt') as f:\n",
    "\treader=csv.reader(f)\n",
    "\tcorpus=[rows[0] for rows in reader]"
   ]
  },
  {
   "cell_type": "code",
   "execution_count": 32,
   "id": "bf140e81",
   "metadata": {},
   "outputs": [],
   "source": [
    "with open ('Reference_data/SNFinaltest.csv', 'rt') as f:\n",
    "\tcsvReader1=csv.reader(f)\n",
    "\tfor rows in csvReader1:\n",
    "\t\ty.append([int(rows[1])])"
   ]
  },
  {
   "cell_type": "code",
   "execution_count": 33,
   "id": "e0e6672c",
   "metadata": {},
   "outputs": [
    {
     "name": "stdout",
     "output_type": "stream",
     "text": [
      "(188541, 302)\n",
      "(47135, 302)\n"
     ]
    }
   ],
   "source": [
    "vectorizer=TfidfVectorizer(vocabulary=mydict,min_df=1)\n",
    "x=vectorizer.fit_transform(corpus).toarray()\n",
    "result=np.append(x,y,axis=1)\n",
    "X=pandas.DataFrame(result)\n",
    "model=GaussianNB()\n",
    "train = X.sample(frac=0.8, random_state=1)\n",
    "test=X.drop(train.index)\n",
    "y_train=train[301]\n",
    "y_test=test[301]\n",
    "print(train.shape)\n",
    "print(test.shape)"
   ]
  },
  {
   "cell_type": "code",
   "execution_count": 34,
   "id": "c629044b",
   "metadata": {},
   "outputs": [],
   "source": [
    "xtrain=train.drop(301,axis=1)\n",
    "xtest=test.drop(301,axis=1)\n",
    "model.fit(xtrain,y_train)\n",
    "pickle.dump(model, open('Model/BNSNFinal.sav', 'wb'))"
   ]
  },
  {
   "cell_type": "code",
   "execution_count": 35,
   "id": "36ddc2e9",
   "metadata": {},
   "outputs": [
    {
     "name": "stderr",
     "output_type": "stream",
     "text": [
      "[nltk_data] Downloading package stopwords to\n",
      "[nltk_data]     C:\\Users\\Shaha\\AppData\\Roaming\\nltk_data...\n",
      "[nltk_data]   Package stopwords is already up-to-date!\n"
     ]
    }
   ],
   "source": [
    "from nltk.corpus import stopwords\n",
    "from nltk.tokenize import word_tokenize\n",
    "from nltk.stem import *\n",
    "from nltk.stem.snowball import SnowballStemmer\n",
    "import tweepy\n",
    "import sys\n",
    "import os\n",
    "import nltk \n",
    "import re\n",
    "import numpy as np\n",
    "import string\n",
    "from unidecode import unidecode\n",
    "import csv\n",
    "from itertools import islice\n",
    "import pandas as pd\n",
    "import pickle\n",
    "from sklearn.feature_extraction.text import CountVectorizer\n",
    "from sklearn.feature_extraction.text import TfidfVectorizer\n",
    "from collections import Counter\n",
    "import nltk\n",
    "nltk.download('stopwords')\n",
    "import nltk"
   ]
  },
  {
   "cell_type": "code",
   "execution_count": 36,
   "id": "f167e231",
   "metadata": {},
   "outputs": [
    {
     "name": "stderr",
     "output_type": "stream",
     "text": [
      "[nltk_data] Downloading package punkt to\n",
      "[nltk_data]     C:\\Users\\Shaha\\AppData\\Roaming\\nltk_data...\n",
      "[nltk_data]   Package punkt is already up-to-date!\n"
     ]
    }
   ],
   "source": [
    "nltk.download('punkt')\n",
    "ckey='Yu6M4D3kY40SGzBcUSZAItYI1'\n",
    "csecret='dq6Y9NEJq9EWqHmdBPNnfjV0nw5kDPJdG49nmofCrTRNxqP161'\n",
    "atoken='1409190957648470017-Q7vHuma3iz3g9jKHjXbtAC6Uiph8Zc'\n",
    "asecret='ziaW6LLP1yuhCZUjG8eESvR44Bh2FGkkxn5gg9CKNSqf5'\n",
    "auth=tweepy.OAuthHandler(ckey, csecret)\n",
    "auth.set_access_token(atoken, asecret)\n",
    "api=tweepy.API(auth)"
   ]
  },
  {
   "cell_type": "code",
   "execution_count": 37,
   "id": "0675cee8",
   "metadata": {},
   "outputs": [],
   "source": [
    "emoticons_str = r\"\"\"\n",
    "    (?:\n",
    "        [:=;] # Eyes\n",
    "        [oO\\-]? # Nose (optional)\n",
    "        [D\\)\\]\\(\\]/\\\\OpP] # Mouth\n",
    "    )\"\"\"\n",
    "\n",
    "emoji_pattern = re.compile(\"[\"\n",
    "        u\"\\U0001F600-\\U0001F64F\"  # emoticons\n",
    "        u\"\\U0001F300-\\U0001F5FF\"  # symbols & pictographs\n",
    "        u\"\\U0001F680-\\U0001F6FF\"  # transport & map symbols\n",
    "        u\"\\U0001F1E0-\\U0001F1FF\"  # flags (iOS)\n",
    "                           \"]+\", flags=re.UNICODE)\n",
    "\n",
    "\n",
    "regex_str = [\n",
    "    emoticons_str,\n",
    "    r'<[^>]+>',  # HTML tags\n",
    "    r'(?:@[\\w_]+)',  # @-mentions\n",
    "    r\"(?:\\#+[\\w_]+[\\w\\'_\\-]*[\\w_]+)\",  # hash-tags\n",
    "    r'http[s]?://(?:[a-z]|[0-9]|[$-_@.&amp;+]|[!*\\(\\),]|(?:%[0-9a-f][0-9a-f]))+',  # URLs\n",
    "\n",
    "    r'(?:(?:\\d+,?)+(?:\\.?\\d+)?)',  # numbers\n",
    "    r\"(?:[a-z][a-z'\\-_]+[a-z])\",  # words with - and '\n",
    "    r'(?:[\\w_]+)',  # other words\n",
    "    r'(?:\\S)'  # anything else\n",
    "]\n",
    "\n",
    "tokens_re = re.compile(r'(' + '|'.join(regex_str) + ')', re.VERBOSE | re.IGNORECASE)\n",
    "emoticon_re = re.compile(r'^' + emoticons_str + '$', re.VERBOSE | re.IGNORECASE)"
   ]
  },
  {
   "cell_type": "code",
   "execution_count": 38,
   "id": "0b2afa57",
   "metadata": {},
   "outputs": [],
   "source": [
    "def tokenize(s):\n",
    "    return tokens_re.findall(s)"
   ]
  },
  {
   "cell_type": "code",
   "execution_count": 39,
   "id": "a9d0b6df",
   "metadata": {},
   "outputs": [],
   "source": [
    "def preprocess(s, lowercase=False):\n",
    "    tokens = tokenize(s)\n",
    "    if lowercase:\n",
    "        tokens = [token if emoticon_re.search(token) else token.lower() for token in tokens]\n",
    "    return tokens\n"
   ]
  },
  {
   "cell_type": "code",
   "execution_count": 40,
   "id": "ed8fe717",
   "metadata": {},
   "outputs": [],
   "source": [
    "def preproc(s):\n",
    "\t#s=emoji_pattern.sub(r'', s) # no emoji\n",
    "\ts= unidecode(s)\n",
    "\tPOSTagger=preprocess(s)\n",
    "\t#print(POSTagger)\n",
    "\n",
    "\ttweet=' '.join(POSTagger)\n",
    "\tstop_words = set(stopwords.words('english'))\n",
    "\tword_tokens = word_tokenize(tweet)\n",
    "\t#filtered_sentence = [w for w in word_tokens if not w in stop_words]\n",
    "\tfiltered_sentence = []\n",
    "\tfor w in POSTagger:\n",
    "\t    if w not in stop_words:\n",
    "\t        filtered_sentence.append(w)\n",
    "\t#print(word_tokens)\n",
    "\t#print(filtered_sentence)\n",
    "\tstemmed_sentence=[]\n",
    "\tstemmer2 = SnowballStemmer(\"english\", ignore_stopwords=True)\n",
    "\tfor w in filtered_sentence:\n",
    "\t\tstemmed_sentence.append(stemmer2.stem(w))\n",
    "\t#print(stemmed_sentence)\n",
    "\n",
    "\ttemp = ' '.join(c for c in stemmed_sentence if c not in string.punctuation) \n",
    "\tpreProcessed=temp.split(\" \")\n",
    "\tfinal=[]\n",
    "\tfor i in preProcessed:\n",
    "\t\tif i not in final:\n",
    "\t\t\tif i.isdigit():\n",
    "\t\t\t\tpass\n",
    "\t\t\telse:\n",
    "\t\t\t\tif 'http' not in i:\n",
    "\t\t\t\t\tfinal.append(i)\n",
    "\ttemp1=' '.join(c for c in final)\n",
    "\t#print(preProcessed)\n",
    "\treturn temp1"
   ]
  },
  {
   "cell_type": "code",
   "execution_count": 41,
   "id": "40d3571c",
   "metadata": {},
   "outputs": [],
   "source": [
    "def getTweets(user):\n",
    "\tcsvFile = open('Reference_data/user.csv', 'a', newline='')\n",
    "\tcsvWriter = csv.writer(csvFile)\n",
    "\ttry:\n",
    "\t\tfor i in range(0,4):\n",
    "\t\t\ttweets=api.user_timeline(screen_name = user, count = 1000, include_rts=True, page=i)\n",
    "\t\t\tfor status in tweets:\n",
    "\t\t\t\ttw=preproc(status.text)\n",
    "\t\t\t\tif tw.find(\" \") == -1:\n",
    "\t\t\t\t\ttw=\"blank\"\n",
    "\t\t\t\tcsvWriter.writerow([tw])\n",
    "\texcept tweepy.TweepError:\n",
    "\t\tprint(\"Failed to run the command on that user, Skipping...\")\n",
    "\tcsvFile.close()\n"
   ]
  },
  {
   "cell_type": "code",
   "execution_count": 42,
   "id": "c9e89cb0",
   "metadata": {},
   "outputs": [
    {
     "name": "stdout",
     "output_type": "stream",
     "text": [
      "Please Enter Twitter Account handle: BarackObama\n"
     ]
    }
   ],
   "source": [
    "username=input(\"Please Enter Twitter Account handle: \")\n",
    "getTweets(username)\n",
    "with open('Reference_data/user.csv','rt') as f:\n",
    "\tcsvReader=csv.reader(f)\n",
    "\ttweetList=[rows[0] for rows in csvReader]\n",
    "with open('Reference_Data/newfrequency300.csv','rt') as f:\n",
    "\tcsvReader=csv.reader(f)\n",
    "\tmydict={rows[1]: int(rows[0]) for rows in csvReader}\n",
    "\n",
    "vectorizer=TfidfVectorizer(vocabulary=mydict,min_df=1)\n",
    "x=vectorizer.fit_transform(tweetList).toarray()\n",
    "df=pd.DataFrame(x)\n"
   ]
  },
  {
   "cell_type": "code",
   "execution_count": 43,
   "id": "c2eb18fd",
   "metadata": {},
   "outputs": [
    {
     "name": "stdout",
     "output_type": "stream",
     "text": [
      "[(0.0, 13194)]\n",
      "[(0.0, 15450)]\n",
      "[(0.0, 14198)]\n",
      "[(0.0, 14198)]\n",
      "ENFJ\n"
     ]
    }
   ],
   "source": [
    "model_IE = pickle.load(open(\"Model/BNIEFinal.sav\", 'rb'))\n",
    "model_SN = pickle.load(open(\"Model/BNSNFinal.sav\", 'rb'))\n",
    "model_TF = pickle.load(open('Model/BNTFFinal.sav', 'rb'))\n",
    "model_PJ = pickle.load(open('Model/BNPJFinal.sav', 'rb'))\n",
    "\n",
    "answer=[]\n",
    "IE=model_IE.predict(df)\n",
    "SN=model_SN.predict(df)\n",
    "TF=model_TF.predict(df)\n",
    "PJ=model_PJ.predict(df)\n",
    "\n",
    "\n",
    "b = Counter(IE)\n",
    "value=b.most_common(1)\n",
    "print(value)\n",
    "if value[0][0] == 1.0:\n",
    "\tanswer.append(\"I\")\n",
    "else:\n",
    "\tanswer.append(\"E\")\n",
    "\n",
    "b = Counter(SN)\n",
    "value=b.most_common(1)\n",
    "print(value)\n",
    "if value[0][0] == 1.0:\n",
    "\tanswer.append(\"S\")\n",
    "else:\n",
    "\tanswer.append(\"N\")\n",
    "\n",
    "b = Counter(TF)\n",
    "value=b.most_common(1)\n",
    "print(value)\n",
    "if value[0][0] == 1:\n",
    "\tanswer.append(\"T\")\n",
    "else:\n",
    "\tanswer.append(\"F\")\n",
    "\n",
    "b = Counter(PJ)\n",
    "value=b.most_common(1)\n",
    "print(value)\n",
    "if value[0][0] == 1:\n",
    "\tanswer.append(\"P\")\n",
    "else:\n",
    "\tanswer.append(\"J\")\n",
    "mbti=\"\".join(answer)\n",
    "print(mbti)"
   ]
  },
  {
   "cell_type": "code",
   "execution_count": 44,
   "id": "c7377408",
   "metadata": {},
   "outputs": [
    {
     "name": "stdout",
     "output_type": "stream",
     "text": [
      "career Guidance Counselor, Teacher, Sales Manager, Art Director\n"
     ]
    }
   ],
   "source": [
    "df=pd.read_csv(\"Reference_data\\MBTI.csv\")\n",
    "\n",
    "op_json={}\n",
    "\n",
    "op_json[\"traits\"]=df[df[\"type\"]==mbti]['traits'].values[0]\n",
    "op_json[\"career\"]=df[df[\"type\"]==mbti]['career'].values[0]\n",
    "op_json[\"people\"]=df[df[\"type\"]==mbti]['eminent personalities'].values[0]\n",
    "op_json[\"per_name\"]=df[df[\"type\"]==mbti]['name'].values[0]\n",
    "\n",
    "keys, values=zip(*op_json.items())\n",
    "print(keys[1],values[1])\t\t\t\t\t\t\t\t\t"
   ]
  },
  {
   "cell_type": "code",
   "execution_count": null,
   "id": "31a0570c",
   "metadata": {},
   "outputs": [],
   "source": []
  },
  {
   "cell_type": "code",
   "execution_count": null,
   "id": "9ef8c8b3",
   "metadata": {},
   "outputs": [],
   "source": []
  },
  {
   "cell_type": "code",
   "execution_count": null,
   "id": "cf792e47",
   "metadata": {},
   "outputs": [],
   "source": []
  }
 ],
 "metadata": {
  "kernelspec": {
   "display_name": "Python 3",
   "language": "python",
   "name": "python3"
  },
  "language_info": {
   "codemirror_mode": {
    "name": "ipython",
    "version": 3
   },
   "file_extension": ".py",
   "mimetype": "text/x-python",
   "name": "python",
   "nbconvert_exporter": "python",
   "pygments_lexer": "ipython3",
   "version": "3.8.8"
  }
 },
 "nbformat": 4,
 "nbformat_minor": 5
}
